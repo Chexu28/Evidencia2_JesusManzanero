{
 "cells": [
  {
   "cell_type": "code",
   "execution_count": 11,
   "id": "7bfe47c6",
   "metadata": {},
   "outputs": [
    {
     "name": "stdout",
     "output_type": "stream",
     "text": [
      "{'nombre': 'Camisa', 'precio': 9.95, 'temporada': 'Primavera', 'unidades': 15}\n"
     ]
    }
   ],
   "source": [
    "class Producto: \n",
    "    nombre=\"\" \n",
    "    temporada=\"\"\n",
    "    unidades=0\n",
    "    precio=0.0\n",
    "    \n",
    "    def __init__(self, nombre, temporada, unidades, precio):\n",
    "        self.nombre = nombre\n",
    "        self.temporada = temporada\n",
    "        self.unidades = unidades\n",
    "        self.precio = precio\n",
    "        \n",
    "producto=Producto(\"Camisa\", \"Primavera\", 15, 9.95)\n",
    "\n",
    "from pprint import pprint\n",
    "pprint(vars(producto))"
   ]
  },
  {
   "cell_type": "code",
   "execution_count": 13,
   "id": "40b2bddb",
   "metadata": {},
   "outputs": [
    {
     "name": "stdout",
     "output_type": "stream",
     "text": [
      "{'nombre': 'Camisa', 'precio': 9.95, 'temporada': 'Primavera', 'unidades': 15}\n",
      "{'nombre': 'Pantalon', 'precio': 9.95, 'temporada': 'Primavera', 'unidades': 15}\n"
     ]
    }
   ],
   "source": [
    "class Producto: \n",
    "    nombre=\"\" \n",
    "    temporada=\"\"\n",
    "    unidades=0\n",
    "    precio=0.0\n",
    "    \n",
    "    def __init__(self, nombre, temporada, unidades, precio):\n",
    "        self.nombre = nombre\n",
    "        self.temporada = temporada\n",
    "        self.unidades = unidades\n",
    "        self.precio = precio\n",
    "        \n",
    "    def getnombre(self):\n",
    "        return self.nombre\n",
    "    def setnombre(self, nombre):\n",
    "        self.nombre = nombre\n",
    "        \n",
    "    def gettemporada(self):\n",
    "        return self.temporada\n",
    "    def settemporada(self, temporada):\n",
    "        self.temporada = temporada\n",
    "        \n",
    "    def getunidades(self):\n",
    "        return self.unidades\n",
    "    def setunidades(self, unidades):\n",
    "        self.unidades = unidades\n",
    "        \n",
    "    def getprecio(self):\n",
    "        return self.precio\n",
    "    def setprecio(self, precio):\n",
    "        self.precio = precio\n",
    "        \n",
    "producto=Producto(\"Camisa\", \"Primavera\", 15, 9.95)\n",
    "\n",
    "from pprint import pprint\n",
    "pprint(vars(producto))\n",
    "\n",
    "producto.setnombre(\"Pantalon\")\n",
    "\n",
    "pprint(vars(producto))"
   ]
  },
  {
   "cell_type": "code",
   "execution_count": 19,
   "id": "6e44cf5e",
   "metadata": {},
   "outputs": [
    {
     "name": "stdout",
     "output_type": "stream",
     "text": [
      "{'nombre': 'Camisa', 'precio': 9.95, 'temporada': 'Primavera', 'unidades': 15}\n"
     ]
    }
   ],
   "source": [
    "class Producto: \n",
    "    nombre=\"\" \n",
    "    temporada=\"\"\n",
    "    unidades=0\n",
    "    precio=0.0\n",
    "    \n",
    "    def __init__(self, nombre, temporada, unidades, precio):\n",
    "        self.nombre = nombre\n",
    "        self.temporada = temporada\n",
    "        self.unidades = unidades\n",
    "        self.precio = precio\n",
    "        \n",
    "    def getnombre(self):\n",
    "        return self.nombre\n",
    "    def setnombre(self, nombre):\n",
    "        self.nombre = nombre\n",
    "        \n",
    "    def gettemporada(self):\n",
    "        return self.temporada\n",
    "    def settemporada(self, temporada):\n",
    "        self.temporada = temporada\n",
    "        \n",
    "    def getunidades(self):\n",
    "        return self.unidades\n",
    "    def setunidades(self, unidades):\n",
    "        self.unidades = unidades\n",
    "        \n",
    "    def getprecio(self):\n",
    "        return self.precio\n",
    "    def setprecio(self, precio):\n",
    "        self.precio = precio\n",
    "        \n",
    "        \n",
    "producto=Producto(\"Camisa\", \"Primavera\", 15, 9.95)\n",
    "\n",
    "from pprint import pprint\n",
    "pprint(vars(producto))\n"
   ]
  },
  {
   "cell_type": "code",
   "execution_count": 20,
   "id": "967f4bf3",
   "metadata": {},
   "outputs": [
    {
     "name": "stdout",
     "output_type": "stream",
     "text": [
      "El precio total con iva es: 60.1975\n"
     ]
    }
   ],
   "source": [
    "class Producto: \n",
    "    nombre=\"\" \n",
    "    temporada=\"\"\n",
    "    unidades=0\n",
    "    precio=0.0\n",
    "    \n",
    "    def __init__(self, nombre, temporada, unidades, precio):\n",
    "        self.nombre = nombre\n",
    "        self.temporada = temporada\n",
    "        self.unidades = unidades\n",
    "        self.precio = precio\n",
    "        \n",
    "    def getnombre(self):\n",
    "        return self.nombre\n",
    "    def setnombre(self, nombre):\n",
    "        self.nombre = nombre\n",
    "        \n",
    "    def gettemporada(self):\n",
    "        return self.temporada\n",
    "    def settemporada(self, temporada):\n",
    "        self.temporada = temporada\n",
    "        \n",
    "    def getunidades(self):\n",
    "        return self.unidades\n",
    "    def setunidades(self, unidades):\n",
    "        self.unidades = unidades\n",
    "        \n",
    "    def getprecio(self):\n",
    "        return self.precio\n",
    "    def setprecio(self, precio):\n",
    "        self.precio = precio\n",
    "        \n",
    "    def iva(self, numerodecompra):\n",
    "        \n",
    "        base = numerodecompra * 9.95\n",
    "        iva = base * 0.21\n",
    "        precio = base + iva\n",
    "        print(\"El precio total con iva es: \" + str(precio))\n",
    "        \n",
    "        \n",
    "producto=Producto(\"Camisa\", \"Primavera\", 15, 9.95)\n",
    "\n",
    "producto.iva(5)\n"
   ]
  },
  {
   "cell_type": "code",
   "execution_count": 23,
   "id": "1a3a61fd",
   "metadata": {},
   "outputs": [
    {
     "name": "stdout",
     "output_type": "stream",
     "text": [
      "Error no hay tantos productos\n"
     ]
    }
   ],
   "source": [
    "class Producto: \n",
    "    nombre=\"\" \n",
    "    temporada=\"\"\n",
    "    unidades=0\n",
    "    precio=0.0\n",
    "    \n",
    "    def __init__(self, nombre, temporada, unidades, precio):\n",
    "        self.nombre = nombre\n",
    "        self.temporada = temporada\n",
    "        self.unidades = unidades\n",
    "        self.precio = precio\n",
    "        \n",
    "    def getnombre(self):\n",
    "        return self.nombre\n",
    "    def setnombre(self, nombre):\n",
    "        self.nombre = nombre\n",
    "        \n",
    "    def gettemporada(self):\n",
    "        return self.temporada\n",
    "    def settemporada(self, temporada):\n",
    "        self.temporada = temporada\n",
    "        \n",
    "    def getunidades(self):\n",
    "        return self.unidades\n",
    "    def setunidades(self, unidades):\n",
    "        self.unidades = unidades\n",
    "        \n",
    "    def getprecio(self):\n",
    "        return self.precio\n",
    "    def setprecio(self, precio):\n",
    "        self.precio = precio\n",
    "        \n",
    "    def iva(self, numerodecompra):\n",
    "        \n",
    "        if numerodecompra < 15:\n",
    "            base = numerodecompra * 9.95\n",
    "            iva = base * 0.21\n",
    "            precio = base + iva\n",
    "            print(\"El precio total con iva es: \" + str(precio))\n",
    "        else:\n",
    "            print(\"Error no hay tantos productos\")\n",
    "        \n",
    "producto=Producto(\"Camisa\", \"Primavera\", 15, 9.95)\n",
    "\n",
    "producto.iva(20)\n"
   ]
  },
  {
   "cell_type": "code",
   "execution_count": null,
   "id": "c0afe971",
   "metadata": {},
   "outputs": [],
   "source": []
  }
 ],
 "metadata": {
  "kernelspec": {
   "display_name": "Python 3",
   "language": "python",
   "name": "python3"
  },
  "language_info": {
   "codemirror_mode": {
    "name": "ipython",
    "version": 3
   },
   "file_extension": ".py",
   "mimetype": "text/x-python",
   "name": "python",
   "nbconvert_exporter": "python",
   "pygments_lexer": "ipython3",
   "version": "3.8.8"
  }
 },
 "nbformat": 4,
 "nbformat_minor": 5
}
